{
  "nbformat": 4,
  "nbformat_minor": 0,
  "metadata": {
    "colab": {
      "provenance": [],
      "authorship_tag": "ABX9TyOB4rnSMGDLkciqNDRMObU/",
      "include_colab_link": true
    },
    "kernelspec": {
      "name": "python3",
      "display_name": "Python 3"
    },
    "language_info": {
      "name": "python"
    }
  },
  "cells": [
    {
      "cell_type": "markdown",
      "metadata": {
        "id": "view-in-github",
        "colab_type": "text"
      },
      "source": [
        "<a href=\"https://colab.research.google.com/github/Neelamkanwar/Neelamkanwar/blob/main/Amir_GroupC_Neelam_Kanwar_CA1.ipynb\" target=\"_parent\"><img src=\"https://colab.research.google.com/assets/colab-badge.svg\" alt=\"Open In Colab\"/></a>"
      ]
    },
    {
      "cell_type": "code",
      "execution_count": null,
      "metadata": {
        "id": "aTege7E90v7L"
      },
      "outputs": [],
      "source": [
        "#import libraries\n",
        "import warnings\n",
        "import sklearn\n",
        "import numpy as np\n",
        "import pandas as pd\n",
        "import matplotlib.pyplot as plt\n",
        "import seaborn as sns\n",
        "from sklearn.linear_model import LinearRegression\n",
        "warnings.filterwarnings(\"ignore\")\n",
        "%matplotlib inline"
      ]
    },
    {
      "cell_type": "markdown",
      "source": [
        "# . Data Preparation"
      ],
      "metadata": {
        "id": "iP5cM6Ea6six"
      }
    },
    {
      "cell_type": "code",
      "source": [
        "#load the dataset from colab\n",
        "data = pd.read_csv('/content/cancerdata.csv')\n",
        "data['diagnosis'] = data['diagnosis'].map({'M':1, 'B':0}) #converts the results into 1 and 0 for ease of predictions\n",
        "df=pd.DataFrame(data)\n",
        "df.head()"
      ],
      "metadata": {
        "colab": {
          "base_uri": "https://localhost:8080/",
          "height": 317
        },
        "id": "pze6HwVCQVem",
        "outputId": "2daa1037-6521-4800-8c99-d7a3cc8ca6b6"
      },
      "execution_count": null,
      "outputs": [
        {
          "output_type": "execute_result",
          "data": {
            "text/plain": [
              "         id  diagnosis  radius_mean  texture_mean  perimeter_mean  area_mean  \\\n",
              "0    842302          1        17.99         10.38          122.80     1001.0   \n",
              "1    842517          1        20.57         17.77          132.90     1326.0   \n",
              "2  84300903          1        19.69         21.25          130.00     1203.0   \n",
              "3  84348301          1        11.42         20.38           77.58      386.1   \n",
              "4  84358402          1        20.29         14.34          135.10     1297.0   \n",
              "\n",
              "   smoothness_mean  compactness_mean  concavity_mean  concave points_mean  \\\n",
              "0          0.11840           0.27760          0.3001              0.14710   \n",
              "1          0.08474           0.07864          0.0869              0.07017   \n",
              "2          0.10960           0.15990          0.1974              0.12790   \n",
              "3          0.14250           0.28390          0.2414              0.10520   \n",
              "4          0.10030           0.13280          0.1980              0.10430   \n",
              "\n",
              "   ...  radius_worst  texture_worst  perimeter_worst  area_worst  \\\n",
              "0  ...         25.38          17.33           184.60      2019.0   \n",
              "1  ...         24.99          23.41           158.80      1956.0   \n",
              "2  ...         23.57          25.53           152.50      1709.0   \n",
              "3  ...         14.91          26.50            98.87       567.7   \n",
              "4  ...         22.54          16.67           152.20      1575.0   \n",
              "\n",
              "   smoothness_worst  compactness_worst  concavity_worst  concave points_worst  \\\n",
              "0            0.1622             0.6656           0.7119                0.2654   \n",
              "1            0.1238             0.1866           0.2416                0.1860   \n",
              "2            0.1444             0.4245           0.4504                0.2430   \n",
              "3            0.2098             0.8663           0.6869                0.2575   \n",
              "4            0.1374             0.2050           0.4000                0.1625   \n",
              "\n",
              "   symmetry_worst  fractal_dimension_worst  \n",
              "0          0.4601                  0.11890  \n",
              "1          0.2750                  0.08902  \n",
              "2          0.3613                  0.08758  \n",
              "3          0.6638                  0.17300  \n",
              "4          0.2364                  0.07678  \n",
              "\n",
              "[5 rows x 32 columns]"
            ],
            "text/html": [
              "\n",
              "  <div id=\"df-b874e0a1-f001-4670-981f-d3c982f69e21\">\n",
              "    <div class=\"colab-df-container\">\n",
              "      <div>\n",
              "<style scoped>\n",
              "    .dataframe tbody tr th:only-of-type {\n",
              "        vertical-align: middle;\n",
              "    }\n",
              "\n",
              "    .dataframe tbody tr th {\n",
              "        vertical-align: top;\n",
              "    }\n",
              "\n",
              "    .dataframe thead th {\n",
              "        text-align: right;\n",
              "    }\n",
              "</style>\n",
              "<table border=\"1\" class=\"dataframe\">\n",
              "  <thead>\n",
              "    <tr style=\"text-align: right;\">\n",
              "      <th></th>\n",
              "      <th>id</th>\n",
              "      <th>diagnosis</th>\n",
              "      <th>radius_mean</th>\n",
              "      <th>texture_mean</th>\n",
              "      <th>perimeter_mean</th>\n",
              "      <th>area_mean</th>\n",
              "      <th>smoothness_mean</th>\n",
              "      <th>compactness_mean</th>\n",
              "      <th>concavity_mean</th>\n",
              "      <th>concave points_mean</th>\n",
              "      <th>...</th>\n",
              "      <th>radius_worst</th>\n",
              "      <th>texture_worst</th>\n",
              "      <th>perimeter_worst</th>\n",
              "      <th>area_worst</th>\n",
              "      <th>smoothness_worst</th>\n",
              "      <th>compactness_worst</th>\n",
              "      <th>concavity_worst</th>\n",
              "      <th>concave points_worst</th>\n",
              "      <th>symmetry_worst</th>\n",
              "      <th>fractal_dimension_worst</th>\n",
              "    </tr>\n",
              "  </thead>\n",
              "  <tbody>\n",
              "    <tr>\n",
              "      <th>0</th>\n",
              "      <td>842302</td>\n",
              "      <td>1</td>\n",
              "      <td>17.99</td>\n",
              "      <td>10.38</td>\n",
              "      <td>122.80</td>\n",
              "      <td>1001.0</td>\n",
              "      <td>0.11840</td>\n",
              "      <td>0.27760</td>\n",
              "      <td>0.3001</td>\n",
              "      <td>0.14710</td>\n",
              "      <td>...</td>\n",
              "      <td>25.38</td>\n",
              "      <td>17.33</td>\n",
              "      <td>184.60</td>\n",
              "      <td>2019.0</td>\n",
              "      <td>0.1622</td>\n",
              "      <td>0.6656</td>\n",
              "      <td>0.7119</td>\n",
              "      <td>0.2654</td>\n",
              "      <td>0.4601</td>\n",
              "      <td>0.11890</td>\n",
              "    </tr>\n",
              "    <tr>\n",
              "      <th>1</th>\n",
              "      <td>842517</td>\n",
              "      <td>1</td>\n",
              "      <td>20.57</td>\n",
              "      <td>17.77</td>\n",
              "      <td>132.90</td>\n",
              "      <td>1326.0</td>\n",
              "      <td>0.08474</td>\n",
              "      <td>0.07864</td>\n",
              "      <td>0.0869</td>\n",
              "      <td>0.07017</td>\n",
              "      <td>...</td>\n",
              "      <td>24.99</td>\n",
              "      <td>23.41</td>\n",
              "      <td>158.80</td>\n",
              "      <td>1956.0</td>\n",
              "      <td>0.1238</td>\n",
              "      <td>0.1866</td>\n",
              "      <td>0.2416</td>\n",
              "      <td>0.1860</td>\n",
              "      <td>0.2750</td>\n",
              "      <td>0.08902</td>\n",
              "    </tr>\n",
              "    <tr>\n",
              "      <th>2</th>\n",
              "      <td>84300903</td>\n",
              "      <td>1</td>\n",
              "      <td>19.69</td>\n",
              "      <td>21.25</td>\n",
              "      <td>130.00</td>\n",
              "      <td>1203.0</td>\n",
              "      <td>0.10960</td>\n",
              "      <td>0.15990</td>\n",
              "      <td>0.1974</td>\n",
              "      <td>0.12790</td>\n",
              "      <td>...</td>\n",
              "      <td>23.57</td>\n",
              "      <td>25.53</td>\n",
              "      <td>152.50</td>\n",
              "      <td>1709.0</td>\n",
              "      <td>0.1444</td>\n",
              "      <td>0.4245</td>\n",
              "      <td>0.4504</td>\n",
              "      <td>0.2430</td>\n",
              "      <td>0.3613</td>\n",
              "      <td>0.08758</td>\n",
              "    </tr>\n",
              "    <tr>\n",
              "      <th>3</th>\n",
              "      <td>84348301</td>\n",
              "      <td>1</td>\n",
              "      <td>11.42</td>\n",
              "      <td>20.38</td>\n",
              "      <td>77.58</td>\n",
              "      <td>386.1</td>\n",
              "      <td>0.14250</td>\n",
              "      <td>0.28390</td>\n",
              "      <td>0.2414</td>\n",
              "      <td>0.10520</td>\n",
              "      <td>...</td>\n",
              "      <td>14.91</td>\n",
              "      <td>26.50</td>\n",
              "      <td>98.87</td>\n",
              "      <td>567.7</td>\n",
              "      <td>0.2098</td>\n",
              "      <td>0.8663</td>\n",
              "      <td>0.6869</td>\n",
              "      <td>0.2575</td>\n",
              "      <td>0.6638</td>\n",
              "      <td>0.17300</td>\n",
              "    </tr>\n",
              "    <tr>\n",
              "      <th>4</th>\n",
              "      <td>84358402</td>\n",
              "      <td>1</td>\n",
              "      <td>20.29</td>\n",
              "      <td>14.34</td>\n",
              "      <td>135.10</td>\n",
              "      <td>1297.0</td>\n",
              "      <td>0.10030</td>\n",
              "      <td>0.13280</td>\n",
              "      <td>0.1980</td>\n",
              "      <td>0.10430</td>\n",
              "      <td>...</td>\n",
              "      <td>22.54</td>\n",
              "      <td>16.67</td>\n",
              "      <td>152.20</td>\n",
              "      <td>1575.0</td>\n",
              "      <td>0.1374</td>\n",
              "      <td>0.2050</td>\n",
              "      <td>0.4000</td>\n",
              "      <td>0.1625</td>\n",
              "      <td>0.2364</td>\n",
              "      <td>0.07678</td>\n",
              "    </tr>\n",
              "  </tbody>\n",
              "</table>\n",
              "<p>5 rows × 32 columns</p>\n",
              "</div>\n",
              "      <button class=\"colab-df-convert\" onclick=\"convertToInteractive('df-b874e0a1-f001-4670-981f-d3c982f69e21')\"\n",
              "              title=\"Convert this dataframe to an interactive table.\"\n",
              "              style=\"display:none;\">\n",
              "        \n",
              "  <svg xmlns=\"http://www.w3.org/2000/svg\" height=\"24px\"viewBox=\"0 0 24 24\"\n",
              "       width=\"24px\">\n",
              "    <path d=\"M0 0h24v24H0V0z\" fill=\"none\"/>\n",
              "    <path d=\"M18.56 5.44l.94 2.06.94-2.06 2.06-.94-2.06-.94-.94-2.06-.94 2.06-2.06.94zm-11 1L8.5 8.5l.94-2.06 2.06-.94-2.06-.94L8.5 2.5l-.94 2.06-2.06.94zm10 10l.94 2.06.94-2.06 2.06-.94-2.06-.94-.94-2.06-.94 2.06-2.06.94z\"/><path d=\"M17.41 7.96l-1.37-1.37c-.4-.4-.92-.59-1.43-.59-.52 0-1.04.2-1.43.59L10.3 9.45l-7.72 7.72c-.78.78-.78 2.05 0 2.83L4 21.41c.39.39.9.59 1.41.59.51 0 1.02-.2 1.41-.59l7.78-7.78 2.81-2.81c.8-.78.8-2.07 0-2.86zM5.41 20L4 18.59l7.72-7.72 1.47 1.35L5.41 20z\"/>\n",
              "  </svg>\n",
              "      </button>\n",
              "      \n",
              "  <style>\n",
              "    .colab-df-container {\n",
              "      display:flex;\n",
              "      flex-wrap:wrap;\n",
              "      gap: 12px;\n",
              "    }\n",
              "\n",
              "    .colab-df-convert {\n",
              "      background-color: #E8F0FE;\n",
              "      border: none;\n",
              "      border-radius: 50%;\n",
              "      cursor: pointer;\n",
              "      display: none;\n",
              "      fill: #1967D2;\n",
              "      height: 32px;\n",
              "      padding: 0 0 0 0;\n",
              "      width: 32px;\n",
              "    }\n",
              "\n",
              "    .colab-df-convert:hover {\n",
              "      background-color: #E2EBFA;\n",
              "      box-shadow: 0px 1px 2px rgba(60, 64, 67, 0.3), 0px 1px 3px 1px rgba(60, 64, 67, 0.15);\n",
              "      fill: #174EA6;\n",
              "    }\n",
              "\n",
              "    [theme=dark] .colab-df-convert {\n",
              "      background-color: #3B4455;\n",
              "      fill: #D2E3FC;\n",
              "    }\n",
              "\n",
              "    [theme=dark] .colab-df-convert:hover {\n",
              "      background-color: #434B5C;\n",
              "      box-shadow: 0px 1px 3px 1px rgba(0, 0, 0, 0.15);\n",
              "      filter: drop-shadow(0px 1px 2px rgba(0, 0, 0, 0.3));\n",
              "      fill: #FFFFFF;\n",
              "    }\n",
              "  </style>\n",
              "\n",
              "      <script>\n",
              "        const buttonEl =\n",
              "          document.querySelector('#df-b874e0a1-f001-4670-981f-d3c982f69e21 button.colab-df-convert');\n",
              "        buttonEl.style.display =\n",
              "          google.colab.kernel.accessAllowed ? 'block' : 'none';\n",
              "\n",
              "        async function convertToInteractive(key) {\n",
              "          const element = document.querySelector('#df-b874e0a1-f001-4670-981f-d3c982f69e21');\n",
              "          const dataTable =\n",
              "            await google.colab.kernel.invokeFunction('convertToInteractive',\n",
              "                                                     [key], {});\n",
              "          if (!dataTable) return;\n",
              "\n",
              "          const docLinkHtml = 'Like what you see? Visit the ' +\n",
              "            '<a target=\"_blank\" href=https://colab.research.google.com/notebooks/data_table.ipynb>data table notebook</a>'\n",
              "            + ' to learn more about interactive tables.';\n",
              "          element.innerHTML = '';\n",
              "          dataTable['output_type'] = 'display_data';\n",
              "          await google.colab.output.renderOutput(dataTable, element);\n",
              "          const docLink = document.createElement('div');\n",
              "          docLink.innerHTML = docLinkHtml;\n",
              "          element.appendChild(docLink);\n",
              "        }\n",
              "      </script>\n",
              "    </div>\n",
              "  </div>\n",
              "  "
            ]
          },
          "metadata": {},
          "execution_count": 45
        }
      ]
    },
    {
      "cell_type": "code",
      "source": [
        "#Number of rows and coloums\n",
        "df.shape"
      ],
      "metadata": {
        "colab": {
          "base_uri": "https://localhost:8080/"
        },
        "id": "xxvPJlYwROs5",
        "outputId": "39ec3643-cfcd-4129-a752-edc433faa97a"
      },
      "execution_count": null,
      "outputs": [
        {
          "output_type": "execute_result",
          "data": {
            "text/plain": [
              "(340, 32)"
            ]
          },
          "metadata": {},
          "execution_count": 46
        }
      ]
    },
    {
      "cell_type": "code",
      "source": [
        "df.keys()"
      ],
      "metadata": {
        "colab": {
          "base_uri": "https://localhost:8080/"
        },
        "id": "MrSmx4ufUCTO",
        "outputId": "ec6197a3-134b-487e-d90d-1f7bac2c6740"
      },
      "execution_count": null,
      "outputs": [
        {
          "output_type": "execute_result",
          "data": {
            "text/plain": [
              "Index(['id', 'diagnosis', 'radius_mean', 'texture_mean', 'perimeter_mean',\n",
              "       'area_mean', 'smoothness_mean', 'compactness_mean', 'concavity_mean',\n",
              "       'concave points_mean', 'symmetry_mean', 'fractal_dimension_mean',\n",
              "       'radius_se', 'texture_se', 'perimeter_se', 'area_se', 'smoothness_se',\n",
              "       'compactness_se', 'concavity_se', 'concave points_se', 'symmetry_se',\n",
              "       'fractal_dimension_se', 'radius_worst', 'texture_worst',\n",
              "       'perimeter_worst', 'area_worst', 'smoothness_worst',\n",
              "       'compactness_worst', 'concavity_worst', 'concave points_worst',\n",
              "       'symmetry_worst', 'fractal_dimension_worst'],\n",
              "      dtype='object')"
            ]
          },
          "metadata": {},
          "execution_count": 47
        }
      ]
    },
    {
      "cell_type": "code",
      "source": [
        "df.info()"
      ],
      "metadata": {
        "colab": {
          "base_uri": "https://localhost:8080/"
        },
        "id": "bAVY3NCDUNdy",
        "outputId": "289bbcc6-342b-4410-ccef-b34a5bb36dcc"
      },
      "execution_count": null,
      "outputs": [
        {
          "output_type": "stream",
          "name": "stdout",
          "text": [
            "<class 'pandas.core.frame.DataFrame'>\n",
            "RangeIndex: 340 entries, 0 to 339\n",
            "Data columns (total 32 columns):\n",
            " #   Column                   Non-Null Count  Dtype  \n",
            "---  ------                   --------------  -----  \n",
            " 0   id                       340 non-null    int64  \n",
            " 1   diagnosis                340 non-null    int64  \n",
            " 2   radius_mean              340 non-null    float64\n",
            " 3   texture_mean             340 non-null    float64\n",
            " 4   perimeter_mean           340 non-null    float64\n",
            " 5   area_mean                340 non-null    float64\n",
            " 6   smoothness_mean          340 non-null    float64\n",
            " 7   compactness_mean         340 non-null    float64\n",
            " 8   concavity_mean           340 non-null    float64\n",
            " 9   concave points_mean      340 non-null    float64\n",
            " 10  symmetry_mean            340 non-null    float64\n",
            " 11  fractal_dimension_mean   340 non-null    float64\n",
            " 12  radius_se                340 non-null    float64\n",
            " 13  texture_se               340 non-null    float64\n",
            " 14  perimeter_se             340 non-null    float64\n",
            " 15  area_se                  340 non-null    float64\n",
            " 16  smoothness_se            340 non-null    float64\n",
            " 17  compactness_se           340 non-null    float64\n",
            " 18  concavity_se             340 non-null    float64\n",
            " 19  concave points_se        340 non-null    float64\n",
            " 20  symmetry_se              340 non-null    float64\n",
            " 21  fractal_dimension_se     340 non-null    float64\n",
            " 22  radius_worst             340 non-null    float64\n",
            " 23  texture_worst            340 non-null    float64\n",
            " 24  perimeter_worst          340 non-null    float64\n",
            " 25  area_worst               340 non-null    float64\n",
            " 26  smoothness_worst         340 non-null    float64\n",
            " 27  compactness_worst        340 non-null    float64\n",
            " 28  concavity_worst          340 non-null    float64\n",
            " 29  concave points_worst     340 non-null    float64\n",
            " 30  symmetry_worst           340 non-null    float64\n",
            " 31  fractal_dimension_worst  340 non-null    float64\n",
            "dtypes: float64(30), int64(2)\n",
            "memory usage: 85.1 KB\n"
          ]
        }
      ]
    },
    {
      "cell_type": "code",
      "source": [
        "df.diagnosis"
      ],
      "metadata": {
        "colab": {
          "base_uri": "https://localhost:8080/"
        },
        "id": "NJyTc7lvVRgF",
        "outputId": "17886495-c6d0-4cb5-9816-73f7f8db2fd8"
      },
      "execution_count": null,
      "outputs": [
        {
          "output_type": "execute_result",
          "data": {
            "text/plain": [
              "0      1\n",
              "1      1\n",
              "2      1\n",
              "3      1\n",
              "4      1\n",
              "      ..\n",
              "335    1\n",
              "336    0\n",
              "337    1\n",
              "338    0\n",
              "339    1\n",
              "Name: diagnosis, Length: 340, dtype: int64"
            ]
          },
          "metadata": {},
          "execution_count": 49
        }
      ]
    },
    {
      "cell_type": "code",
      "source": [
        "df.describe() # this will describe the all statistical function of our dat"
      ],
      "metadata": {
        "colab": {
          "base_uri": "https://localhost:8080/",
          "height": 411
        },
        "id": "03NJJoipqo75",
        "outputId": "115b3d44-b3e6-4713-a81a-29278019a2fd"
      },
      "execution_count": null,
      "outputs": [
        {
          "output_type": "execute_result",
          "data": {
            "text/plain": [
              "                 id   diagnosis  radius_mean  texture_mean  perimeter_mean  \\\n",
              "count  3.400000e+02  340.000000   340.000000    340.000000      340.000000   \n",
              "mean   2.482409e+07    0.461765    14.365132     19.127618       93.647853   \n",
              "std    9.763163e+07    0.499271     3.549358      4.213935       24.476279   \n",
              "min    8.670000e+03    0.000000     6.981000      9.710000       43.790000   \n",
              "25%    8.620232e+05    0.000000    11.840000     15.935000       76.097500   \n",
              "50%    8.836955e+05    0.000000    13.575000     18.895000       87.480000   \n",
              "75%    8.810766e+06    1.000000    16.507500     21.630000      109.300000   \n",
              "max    8.810948e+08    1.000000    28.110000     39.280000      188.500000   \n",
              "\n",
              "         area_mean  smoothness_mean  compactness_mean  concavity_mean  \\\n",
              "count   340.000000       340.000000        340.000000      340.000000   \n",
              "mean    676.906765         0.097476          0.107869        0.095696   \n",
              "std     353.684317         0.013887          0.055955        0.082730   \n",
              "min     143.500000         0.062510          0.019380        0.000000   \n",
              "25%     432.150000         0.087597          0.066592        0.030270   \n",
              "50%     566.250000         0.097175          0.097660        0.072140   \n",
              "75%     842.050000         0.106525          0.134650        0.141900   \n",
              "max    2499.000000         0.144700          0.345400        0.426800   \n",
              "\n",
              "       concave points_mean  ...  radius_worst  texture_worst  perimeter_worst  \\\n",
              "count           340.000000  ...    340.000000     340.000000       340.000000   \n",
              "mean              0.052550  ...     16.699894      25.600412       110.055412   \n",
              "std               0.039597  ...      4.936293       6.264302        34.242561   \n",
              "min               0.000000  ...      7.930000      12.020000        50.410000   \n",
              "25%               0.020925  ...     13.140000      21.095000        84.517500   \n",
              "50%               0.039725  ...     15.480000      25.265000       101.700000   \n",
              "75%               0.079600  ...     19.867500      29.875000       129.850000   \n",
              "max               0.201200  ...     33.120000      49.540000       220.800000   \n",
              "\n",
              "        area_worst  smoothness_worst  compactness_worst  concavity_worst  \\\n",
              "count   340.000000        340.000000         340.000000       340.000000   \n",
              "mean    927.541471          0.134137           0.265250         0.286866   \n",
              "std     575.520941          0.023446           0.169432         0.216718   \n",
              "min     185.200000          0.071170           0.027290         0.000000   \n",
              "25%     526.675000          0.118050           0.143800         0.111600   \n",
              "50%     725.900000          0.134100           0.221950         0.247250   \n",
              "75%    1227.250000          0.149175           0.359400         0.398075   \n",
              "max    3432.000000          0.222600           1.058000         1.252000   \n",
              "\n",
              "       concave points_worst  symmetry_worst  fractal_dimension_worst  \n",
              "count            340.000000      340.000000               340.000000  \n",
              "mean               0.120375        0.297864                 0.084857  \n",
              "std                0.067927        0.068982                 0.019626  \n",
              "min                0.000000        0.156500                 0.055040  \n",
              "25%                0.063110        0.255550                 0.071270  \n",
              "50%                0.110850        0.286950                 0.080235  \n",
              "75%                0.173425        0.327425                 0.093082  \n",
              "max                0.291000        0.663800                 0.207500  \n",
              "\n",
              "[8 rows x 32 columns]"
            ],
            "text/html": [
              "\n",
              "  <div id=\"df-58d0c694-3d0d-42d9-88f4-7ed73f1be959\">\n",
              "    <div class=\"colab-df-container\">\n",
              "      <div>\n",
              "<style scoped>\n",
              "    .dataframe tbody tr th:only-of-type {\n",
              "        vertical-align: middle;\n",
              "    }\n",
              "\n",
              "    .dataframe tbody tr th {\n",
              "        vertical-align: top;\n",
              "    }\n",
              "\n",
              "    .dataframe thead th {\n",
              "        text-align: right;\n",
              "    }\n",
              "</style>\n",
              "<table border=\"1\" class=\"dataframe\">\n",
              "  <thead>\n",
              "    <tr style=\"text-align: right;\">\n",
              "      <th></th>\n",
              "      <th>id</th>\n",
              "      <th>diagnosis</th>\n",
              "      <th>radius_mean</th>\n",
              "      <th>texture_mean</th>\n",
              "      <th>perimeter_mean</th>\n",
              "      <th>area_mean</th>\n",
              "      <th>smoothness_mean</th>\n",
              "      <th>compactness_mean</th>\n",
              "      <th>concavity_mean</th>\n",
              "      <th>concave points_mean</th>\n",
              "      <th>...</th>\n",
              "      <th>radius_worst</th>\n",
              "      <th>texture_worst</th>\n",
              "      <th>perimeter_worst</th>\n",
              "      <th>area_worst</th>\n",
              "      <th>smoothness_worst</th>\n",
              "      <th>compactness_worst</th>\n",
              "      <th>concavity_worst</th>\n",
              "      <th>concave points_worst</th>\n",
              "      <th>symmetry_worst</th>\n",
              "      <th>fractal_dimension_worst</th>\n",
              "    </tr>\n",
              "  </thead>\n",
              "  <tbody>\n",
              "    <tr>\n",
              "      <th>count</th>\n",
              "      <td>3.400000e+02</td>\n",
              "      <td>340.000000</td>\n",
              "      <td>340.000000</td>\n",
              "      <td>340.000000</td>\n",
              "      <td>340.000000</td>\n",
              "      <td>340.000000</td>\n",
              "      <td>340.000000</td>\n",
              "      <td>340.000000</td>\n",
              "      <td>340.000000</td>\n",
              "      <td>340.000000</td>\n",
              "      <td>...</td>\n",
              "      <td>340.000000</td>\n",
              "      <td>340.000000</td>\n",
              "      <td>340.000000</td>\n",
              "      <td>340.000000</td>\n",
              "      <td>340.000000</td>\n",
              "      <td>340.000000</td>\n",
              "      <td>340.000000</td>\n",
              "      <td>340.000000</td>\n",
              "      <td>340.000000</td>\n",
              "      <td>340.000000</td>\n",
              "    </tr>\n",
              "    <tr>\n",
              "      <th>mean</th>\n",
              "      <td>2.482409e+07</td>\n",
              "      <td>0.461765</td>\n",
              "      <td>14.365132</td>\n",
              "      <td>19.127618</td>\n",
              "      <td>93.647853</td>\n",
              "      <td>676.906765</td>\n",
              "      <td>0.097476</td>\n",
              "      <td>0.107869</td>\n",
              "      <td>0.095696</td>\n",
              "      <td>0.052550</td>\n",
              "      <td>...</td>\n",
              "      <td>16.699894</td>\n",
              "      <td>25.600412</td>\n",
              "      <td>110.055412</td>\n",
              "      <td>927.541471</td>\n",
              "      <td>0.134137</td>\n",
              "      <td>0.265250</td>\n",
              "      <td>0.286866</td>\n",
              "      <td>0.120375</td>\n",
              "      <td>0.297864</td>\n",
              "      <td>0.084857</td>\n",
              "    </tr>\n",
              "    <tr>\n",
              "      <th>std</th>\n",
              "      <td>9.763163e+07</td>\n",
              "      <td>0.499271</td>\n",
              "      <td>3.549358</td>\n",
              "      <td>4.213935</td>\n",
              "      <td>24.476279</td>\n",
              "      <td>353.684317</td>\n",
              "      <td>0.013887</td>\n",
              "      <td>0.055955</td>\n",
              "      <td>0.082730</td>\n",
              "      <td>0.039597</td>\n",
              "      <td>...</td>\n",
              "      <td>4.936293</td>\n",
              "      <td>6.264302</td>\n",
              "      <td>34.242561</td>\n",
              "      <td>575.520941</td>\n",
              "      <td>0.023446</td>\n",
              "      <td>0.169432</td>\n",
              "      <td>0.216718</td>\n",
              "      <td>0.067927</td>\n",
              "      <td>0.068982</td>\n",
              "      <td>0.019626</td>\n",
              "    </tr>\n",
              "    <tr>\n",
              "      <th>min</th>\n",
              "      <td>8.670000e+03</td>\n",
              "      <td>0.000000</td>\n",
              "      <td>6.981000</td>\n",
              "      <td>9.710000</td>\n",
              "      <td>43.790000</td>\n",
              "      <td>143.500000</td>\n",
              "      <td>0.062510</td>\n",
              "      <td>0.019380</td>\n",
              "      <td>0.000000</td>\n",
              "      <td>0.000000</td>\n",
              "      <td>...</td>\n",
              "      <td>7.930000</td>\n",
              "      <td>12.020000</td>\n",
              "      <td>50.410000</td>\n",
              "      <td>185.200000</td>\n",
              "      <td>0.071170</td>\n",
              "      <td>0.027290</td>\n",
              "      <td>0.000000</td>\n",
              "      <td>0.000000</td>\n",
              "      <td>0.156500</td>\n",
              "      <td>0.055040</td>\n",
              "    </tr>\n",
              "    <tr>\n",
              "      <th>25%</th>\n",
              "      <td>8.620232e+05</td>\n",
              "      <td>0.000000</td>\n",
              "      <td>11.840000</td>\n",
              "      <td>15.935000</td>\n",
              "      <td>76.097500</td>\n",
              "      <td>432.150000</td>\n",
              "      <td>0.087597</td>\n",
              "      <td>0.066592</td>\n",
              "      <td>0.030270</td>\n",
              "      <td>0.020925</td>\n",
              "      <td>...</td>\n",
              "      <td>13.140000</td>\n",
              "      <td>21.095000</td>\n",
              "      <td>84.517500</td>\n",
              "      <td>526.675000</td>\n",
              "      <td>0.118050</td>\n",
              "      <td>0.143800</td>\n",
              "      <td>0.111600</td>\n",
              "      <td>0.063110</td>\n",
              "      <td>0.255550</td>\n",
              "      <td>0.071270</td>\n",
              "    </tr>\n",
              "    <tr>\n",
              "      <th>50%</th>\n",
              "      <td>8.836955e+05</td>\n",
              "      <td>0.000000</td>\n",
              "      <td>13.575000</td>\n",
              "      <td>18.895000</td>\n",
              "      <td>87.480000</td>\n",
              "      <td>566.250000</td>\n",
              "      <td>0.097175</td>\n",
              "      <td>0.097660</td>\n",
              "      <td>0.072140</td>\n",
              "      <td>0.039725</td>\n",
              "      <td>...</td>\n",
              "      <td>15.480000</td>\n",
              "      <td>25.265000</td>\n",
              "      <td>101.700000</td>\n",
              "      <td>725.900000</td>\n",
              "      <td>0.134100</td>\n",
              "      <td>0.221950</td>\n",
              "      <td>0.247250</td>\n",
              "      <td>0.110850</td>\n",
              "      <td>0.286950</td>\n",
              "      <td>0.080235</td>\n",
              "    </tr>\n",
              "    <tr>\n",
              "      <th>75%</th>\n",
              "      <td>8.810766e+06</td>\n",
              "      <td>1.000000</td>\n",
              "      <td>16.507500</td>\n",
              "      <td>21.630000</td>\n",
              "      <td>109.300000</td>\n",
              "      <td>842.050000</td>\n",
              "      <td>0.106525</td>\n",
              "      <td>0.134650</td>\n",
              "      <td>0.141900</td>\n",
              "      <td>0.079600</td>\n",
              "      <td>...</td>\n",
              "      <td>19.867500</td>\n",
              "      <td>29.875000</td>\n",
              "      <td>129.850000</td>\n",
              "      <td>1227.250000</td>\n",
              "      <td>0.149175</td>\n",
              "      <td>0.359400</td>\n",
              "      <td>0.398075</td>\n",
              "      <td>0.173425</td>\n",
              "      <td>0.327425</td>\n",
              "      <td>0.093082</td>\n",
              "    </tr>\n",
              "    <tr>\n",
              "      <th>max</th>\n",
              "      <td>8.810948e+08</td>\n",
              "      <td>1.000000</td>\n",
              "      <td>28.110000</td>\n",
              "      <td>39.280000</td>\n",
              "      <td>188.500000</td>\n",
              "      <td>2499.000000</td>\n",
              "      <td>0.144700</td>\n",
              "      <td>0.345400</td>\n",
              "      <td>0.426800</td>\n",
              "      <td>0.201200</td>\n",
              "      <td>...</td>\n",
              "      <td>33.120000</td>\n",
              "      <td>49.540000</td>\n",
              "      <td>220.800000</td>\n",
              "      <td>3432.000000</td>\n",
              "      <td>0.222600</td>\n",
              "      <td>1.058000</td>\n",
              "      <td>1.252000</td>\n",
              "      <td>0.291000</td>\n",
              "      <td>0.663800</td>\n",
              "      <td>0.207500</td>\n",
              "    </tr>\n",
              "  </tbody>\n",
              "</table>\n",
              "<p>8 rows × 32 columns</p>\n",
              "</div>\n",
              "      <button class=\"colab-df-convert\" onclick=\"convertToInteractive('df-58d0c694-3d0d-42d9-88f4-7ed73f1be959')\"\n",
              "              title=\"Convert this dataframe to an interactive table.\"\n",
              "              style=\"display:none;\">\n",
              "        \n",
              "  <svg xmlns=\"http://www.w3.org/2000/svg\" height=\"24px\"viewBox=\"0 0 24 24\"\n",
              "       width=\"24px\">\n",
              "    <path d=\"M0 0h24v24H0V0z\" fill=\"none\"/>\n",
              "    <path d=\"M18.56 5.44l.94 2.06.94-2.06 2.06-.94-2.06-.94-.94-2.06-.94 2.06-2.06.94zm-11 1L8.5 8.5l.94-2.06 2.06-.94-2.06-.94L8.5 2.5l-.94 2.06-2.06.94zm10 10l.94 2.06.94-2.06 2.06-.94-2.06-.94-.94-2.06-.94 2.06-2.06.94z\"/><path d=\"M17.41 7.96l-1.37-1.37c-.4-.4-.92-.59-1.43-.59-.52 0-1.04.2-1.43.59L10.3 9.45l-7.72 7.72c-.78.78-.78 2.05 0 2.83L4 21.41c.39.39.9.59 1.41.59.51 0 1.02-.2 1.41-.59l7.78-7.78 2.81-2.81c.8-.78.8-2.07 0-2.86zM5.41 20L4 18.59l7.72-7.72 1.47 1.35L5.41 20z\"/>\n",
              "  </svg>\n",
              "      </button>\n",
              "      \n",
              "  <style>\n",
              "    .colab-df-container {\n",
              "      display:flex;\n",
              "      flex-wrap:wrap;\n",
              "      gap: 12px;\n",
              "    }\n",
              "\n",
              "    .colab-df-convert {\n",
              "      background-color: #E8F0FE;\n",
              "      border: none;\n",
              "      border-radius: 50%;\n",
              "      cursor: pointer;\n",
              "      display: none;\n",
              "      fill: #1967D2;\n",
              "      height: 32px;\n",
              "      padding: 0 0 0 0;\n",
              "      width: 32px;\n",
              "    }\n",
              "\n",
              "    .colab-df-convert:hover {\n",
              "      background-color: #E2EBFA;\n",
              "      box-shadow: 0px 1px 2px rgba(60, 64, 67, 0.3), 0px 1px 3px 1px rgba(60, 64, 67, 0.15);\n",
              "      fill: #174EA6;\n",
              "    }\n",
              "\n",
              "    [theme=dark] .colab-df-convert {\n",
              "      background-color: #3B4455;\n",
              "      fill: #D2E3FC;\n",
              "    }\n",
              "\n",
              "    [theme=dark] .colab-df-convert:hover {\n",
              "      background-color: #434B5C;\n",
              "      box-shadow: 0px 1px 3px 1px rgba(0, 0, 0, 0.15);\n",
              "      filter: drop-shadow(0px 1px 2px rgba(0, 0, 0, 0.3));\n",
              "      fill: #FFFFFF;\n",
              "    }\n",
              "  </style>\n",
              "\n",
              "      <script>\n",
              "        const buttonEl =\n",
              "          document.querySelector('#df-58d0c694-3d0d-42d9-88f4-7ed73f1be959 button.colab-df-convert');\n",
              "        buttonEl.style.display =\n",
              "          google.colab.kernel.accessAllowed ? 'block' : 'none';\n",
              "\n",
              "        async function convertToInteractive(key) {\n",
              "          const element = document.querySelector('#df-58d0c694-3d0d-42d9-88f4-7ed73f1be959');\n",
              "          const dataTable =\n",
              "            await google.colab.kernel.invokeFunction('convertToInteractive',\n",
              "                                                     [key], {});\n",
              "          if (!dataTable) return;\n",
              "\n",
              "          const docLinkHtml = 'Like what you see? Visit the ' +\n",
              "            '<a target=\"_blank\" href=https://colab.research.google.com/notebooks/data_table.ipynb>data table notebook</a>'\n",
              "            + ' to learn more about interactive tables.';\n",
              "          element.innerHTML = '';\n",
              "          dataTable['output_type'] = 'display_data';\n",
              "          await google.colab.output.renderOutput(dataTable, element);\n",
              "          const docLink = document.createElement('div');\n",
              "          docLink.innerHTML = docLinkHtml;\n",
              "          element.appendChild(docLink);\n",
              "        }\n",
              "      </script>\n",
              "    </div>\n",
              "  </div>\n",
              "  "
            ]
          },
          "metadata": {},
          "execution_count": 50
        }
      ]
    },
    {
      "cell_type": "code",
      "source": [
        "# perview  of the catergoical Data\n",
        "df.iloc[:,1].values"
      ],
      "metadata": {
        "colab": {
          "base_uri": "https://localhost:8080/"
        },
        "id": "SN1FOjd_yO46",
        "outputId": "0cad236a-1974-4602-d85b-49487cd663a8"
      },
      "execution_count": null,
      "outputs": [
        {
          "output_type": "execute_result",
          "data": {
            "text/plain": [
              "array([1, 1, 1, 1, 1, 1, 1, 1, 1, 1, 1, 1, 1, 1, 1, 1, 1, 1, 1, 0, 0, 0,\n",
              "       1, 1, 1, 1, 1, 1, 1, 1, 1, 1, 1, 1, 1, 1, 1, 0, 1, 1, 1, 1, 1, 1,\n",
              "       1, 1, 0, 1, 0, 0, 0, 0, 0, 1, 1, 0, 1, 1, 0, 0, 0, 0, 1, 0, 1, 1,\n",
              "       0, 0, 0, 0, 1, 0, 1, 1, 0, 1, 0, 1, 1, 0, 0, 0, 1, 1, 0, 1, 1, 1,\n",
              "       0, 0, 0, 1, 0, 0, 1, 1, 0, 0, 0, 1, 1, 0, 0, 0, 0, 1, 0, 0, 1, 0,\n",
              "       0, 0, 0, 0, 0, 0, 0, 1, 1, 1, 0, 1, 1, 0, 0, 0, 1, 1, 0, 1, 0, 1,\n",
              "       1, 0, 1, 1, 0, 0, 1, 0, 0, 1, 0, 0, 0, 0, 1, 0, 0, 0, 0, 0, 0, 0,\n",
              "       0, 0, 1, 0, 0, 0, 0, 1, 1, 0, 1, 0, 0, 1, 1, 0, 0, 1, 1, 0, 0, 0,\n",
              "       0, 1, 0, 0, 1, 1, 1, 0, 1, 0, 1, 0, 0, 0, 1, 0, 0, 1, 1, 0, 1, 1,\n",
              "       1, 1, 0, 1, 1, 1, 0, 1, 0, 1, 0, 0, 1, 0, 1, 1, 1, 1, 0, 0, 1, 1,\n",
              "       0, 0, 0, 1, 0, 0, 0, 0, 0, 1, 1, 0, 0, 1, 0, 0, 1, 1, 0, 1, 0, 0,\n",
              "       0, 0, 1, 0, 0, 0, 0, 0, 1, 0, 1, 1, 1, 1, 1, 1, 1, 1, 1, 1, 1, 1,\n",
              "       1, 1, 0, 0, 0, 0, 0, 0, 1, 0, 1, 0, 0, 1, 0, 0, 1, 0, 1, 1, 0, 0,\n",
              "       0, 0, 0, 0, 0, 0, 0, 0, 0, 0, 0, 1, 0, 0, 1, 0, 1, 0, 0, 0, 0, 0,\n",
              "       0, 0, 0, 0, 0, 0, 0, 0, 0, 1, 0, 0, 0, 1, 0, 1, 0, 0, 0, 0, 1, 1,\n",
              "       1, 0, 0, 0, 0, 1, 0, 1, 0, 1])"
            ]
          },
          "metadata": {},
          "execution_count": 51
        }
      ]
    },
    {
      "cell_type": "code",
      "source": [
        "x=df.drop(['diagnosis', 'id'], axis=1)\n",
        "y=df['diagnosis']"
      ],
      "metadata": {
        "id": "eAibRFE-eBZv"
      },
      "execution_count": null,
      "outputs": []
    },
    {
      "cell_type": "code",
      "source": [
        "sns.countplot(data['diagnosis'],label=\"Count\")"
      ],
      "metadata": {
        "colab": {
          "base_uri": "https://localhost:8080/",
          "height": 296
        },
        "id": "X_O-itMXr15k",
        "outputId": "da43ca85-d938-4808-b95d-9c21819d4d6e"
      },
      "execution_count": null,
      "outputs": [
        {
          "output_type": "execute_result",
          "data": {
            "text/plain": [
              "<matplotlib.axes._subplots.AxesSubplot at 0x7f4934ec79d0>"
            ]
          },
          "metadata": {},
          "execution_count": 10
        },
        {
          "output_type": "display_data",
          "data": {
            "text/plain": [
              "<Figure size 432x288 with 1 Axes>"
            ],
            "image/png": "[encoded data removed]"
          },
          "metadata": {
            "needs_background": "light"
          }
        }
      ]
    },
    {
      "cell_type": "code",
      "source": [
        "#Data transformation(catergorical to numerical if needed)\n",
        "df.dtypes"
      ],
      "metadata": {
        "colab": {
          "base_uri": "https://localhost:8080/"
        },
        "id": "sgLkkmfWlrdK",
        "outputId": "3270192a-39f4-41a2-a9d3-d3c9fd67fb0a"
      },
      "execution_count": null,
      "outputs": [
        {
          "output_type": "execute_result",
          "data": {
            "text/plain": [
              "id                           int64\n",
              "diagnosis                    int64\n",
              "radius_mean                float64\n",
              "texture_mean               float64\n",
              "perimeter_mean             float64\n",
              "area_mean                  float64\n",
              "smoothness_mean            float64\n",
              "compactness_mean           float64\n",
              "concavity_mean             float64\n",
              "concave points_mean        float64\n",
              "symmetry_mean              float64\n",
              "fractal_dimension_mean     float64\n",
              "radius_se                  float64\n",
              "texture_se                 float64\n",
              "perimeter_se               float64\n",
              "area_se                    float64\n",
              "smoothness_se              float64\n",
              "compactness_se             float64\n",
              "concavity_se               float64\n",
              "concave points_se          float64\n",
              "symmetry_se                float64\n",
              "fractal_dimension_se       float64\n",
              "radius_worst               float64\n",
              "texture_worst              float64\n",
              "perimeter_worst            float64\n",
              "area_worst                 float64\n",
              "smoothness_worst           float64\n",
              "compactness_worst          float64\n",
              "concavity_worst            float64\n",
              "concave points_worst       float64\n",
              "symmetry_worst             float64\n",
              "fractal_dimension_worst    float64\n",
              "dtype: object"
            ]
          },
          "metadata": {},
          "execution_count": 16
        }
      ]
    },
    {
      "cell_type": "code",
      "source": [
        "df.iloc[:,1:12].corr()"
      ],
      "metadata": {
        "colab": {
          "base_uri": "https://localhost:8080/",
          "height": 475
        },
        "id": "x73-U74cqGbJ",
        "outputId": "ddfb1178-8224-46d2-911b-9ceda7a850fd"
      },
      "execution_count": null,
      "outputs": [
        {
          "output_type": "execute_result",
          "data": {
            "text/plain": [
              "                        diagnosis  radius_mean  texture_mean  perimeter_mean  \\\n",
              "diagnosis                1.000000     0.718806      0.500875        0.731784   \n",
              "radius_mean              0.718806     1.000000      0.423675        0.997549   \n",
              "texture_mean             0.500875     0.423675      1.000000        0.431127   \n",
              "perimeter_mean           0.731784     0.997549      0.431127        1.000000   \n",
              "area_mean                0.687902     0.988328      0.413134        0.986793   \n",
              "smoothness_mean          0.367880     0.143522      0.064299        0.184412   \n",
              "compactness_mean         0.593575     0.496456      0.332535        0.551317   \n",
              "concavity_mean           0.652024     0.644687      0.364920        0.687399   \n",
              "concave points_mean      0.754754     0.803743      0.385123        0.835815   \n",
              "symmetry_mean            0.326085     0.160014      0.133525        0.198793   \n",
              "fractal_dimension_mean   0.001774    -0.302715     -0.033743       -0.247974   \n",
              "\n",
              "                        area_mean  smoothness_mean  compactness_mean  \\\n",
              "diagnosis                0.687902         0.367880          0.593575   \n",
              "radius_mean              0.988328         0.143522          0.496456   \n",
              "texture_mean             0.413134         0.064299          0.332535   \n",
              "perimeter_mean           0.986793         0.184412          0.551317   \n",
              "area_mean                1.000000         0.150722          0.484790   \n",
              "smoothness_mean          0.150722         1.000000          0.648068   \n",
              "compactness_mean         0.484790         0.648068          1.000000   \n",
              "concavity_mean           0.651832         0.550297          0.888529   \n",
              "concave points_mean      0.800544         0.569733          0.840408   \n",
              "symmetry_mean            0.156187         0.551321          0.626951   \n",
              "fractal_dimension_mean  -0.276103         0.582095          0.578215   \n",
              "\n",
              "                        concavity_mean  concave points_mean  symmetry_mean  \\\n",
              "diagnosis                     0.652024             0.754754       0.326085   \n",
              "radius_mean                   0.644687             0.803743       0.160014   \n",
              "texture_mean                  0.364920             0.385123       0.133525   \n",
              "perimeter_mean                0.687399             0.835815       0.198793   \n",
              "area_mean                     0.651832             0.800544       0.156187   \n",
              "smoothness_mean               0.550297             0.569733       0.551321   \n",
              "compactness_mean              0.888529             0.840408       0.626951   \n",
              "concavity_mean                1.000000             0.914248       0.538812   \n",
              "concave points_mean           0.914248             1.000000       0.503950   \n",
              "symmetry_mean                 0.538812             0.503950       1.000000   \n",
              "fractal_dimension_mean        0.398674             0.202853       0.490074   \n",
              "\n",
              "                        fractal_dimension_mean  \n",
              "diagnosis                             0.001774  \n",
              "radius_mean                          -0.302715  \n",
              "texture_mean                         -0.033743  \n",
              "perimeter_mean                       -0.247974  \n",
              "area_mean                            -0.276103  \n",
              "smoothness_mean                       0.582095  \n",
              "compactness_mean                      0.578215  \n",
              "concavity_mean                        0.398674  \n",
              "concave points_mean                   0.202853  \n",
              "symmetry_mean                         0.490074  \n",
              "fractal_dimension_mean                1.000000  "
            ],
            "text/html": [
              "\n",
              "  <div id=\"df-dc5d7f1a-3559-4346-8f6a-6c700cde1b8f\">\n",
              "    <div class=\"colab-df-container\">\n",
              "      <div>\n",
              "<style scoped>\n",
              "    .dataframe tbody tr th:only-of-type {\n",
              "        vertical-align: middle;\n",
              "    }\n",
              "\n",
              "    .dataframe tbody tr th {\n",
              "        vertical-align: top;\n",
              "    }\n",
              "\n",
              "    .dataframe thead th {\n",
              "        text-align: right;\n",
              "    }\n",
              "</style>\n",
              "<table border=\"1\" class=\"dataframe\">\n",
              "  <thead>\n",
              "    <tr style=\"text-align: right;\">\n",
              "      <th></th>\n",
              "      <th>diagnosis</th>\n",
              "      <th>radius_mean</th>\n",
              "      <th>texture_mean</th>\n",
              "      <th>perimeter_mean</th>\n",
              "      <th>area_mean</th>\n",
              "      <th>smoothness_mean</th>\n",
              "      <th>compactness_mean</th>\n",
              "      <th>concavity_mean</th>\n",
              "      <th>concave points_mean</th>\n",
              "      <th>symmetry_mean</th>\n",
              "      <th>fractal_dimension_mean</th>\n",
              "    </tr>\n",
              "  </thead>\n",
              "  <tbody>\n",
              "    <tr>\n",
              "      <th>diagnosis</th>\n",
              "      <td>1.000000</td>\n",
              "      <td>0.718806</td>\n",
              "      <td>0.500875</td>\n",
              "      <td>0.731784</td>\n",
              "      <td>0.687902</td>\n",
              "      <td>0.367880</td>\n",
              "      <td>0.593575</td>\n",
              "      <td>0.652024</td>\n",
              "      <td>0.754754</td>\n",
              "      <td>0.326085</td>\n",
              "      <td>0.001774</td>\n",
              "    </tr>\n",
              "    <tr>\n",
              "      <th>radius_mean</th>\n",
              "      <td>0.718806</td>\n",
              "      <td>1.000000</td>\n",
              "      <td>0.423675</td>\n",
              "      <td>0.997549</td>\n",
              "      <td>0.988328</td>\n",
              "      <td>0.143522</td>\n",
              "      <td>0.496456</td>\n",
              "      <td>0.644687</td>\n",
              "      <td>0.803743</td>\n",
              "      <td>0.160014</td>\n",
              "      <td>-0.302715</td>\n",
              "    </tr>\n",
              "    <tr>\n",
              "      <th>texture_mean</th>\n",
              "      <td>0.500875</td>\n",
              "      <td>0.423675</td>\n",
              "      <td>1.000000</td>\n",
              "      <td>0.431127</td>\n",
              "      <td>0.413134</td>\n",
              "      <td>0.064299</td>\n",
              "      <td>0.332535</td>\n",
              "      <td>0.364920</td>\n",
              "      <td>0.385123</td>\n",
              "      <td>0.133525</td>\n",
              "      <td>-0.033743</td>\n",
              "    </tr>\n",
              "    <tr>\n",
              "      <th>perimeter_mean</th>\n",
              "      <td>0.731784</td>\n",
              "      <td>0.997549</td>\n",
              "      <td>0.431127</td>\n",
              "      <td>1.000000</td>\n",
              "      <td>0.986793</td>\n",
              "      <td>0.184412</td>\n",
              "      <td>0.551317</td>\n",
              "      <td>0.687399</td>\n",
              "      <td>0.835815</td>\n",
              "      <td>0.198793</td>\n",
              "      <td>-0.247974</td>\n",
              "    </tr>\n",
              "    <tr>\n",
              "      <th>area_mean</th>\n",
              "      <td>0.687902</td>\n",
              "      <td>0.988328</td>\n",
              "      <td>0.413134</td>\n",
              "      <td>0.986793</td>\n",
              "      <td>1.000000</td>\n",
              "      <td>0.150722</td>\n",
              "      <td>0.484790</td>\n",
              "      <td>0.651832</td>\n",
              "      <td>0.800544</td>\n",
              "      <td>0.156187</td>\n",
              "      <td>-0.276103</td>\n",
              "    </tr>\n",
              "    <tr>\n",
              "      <th>smoothness_mean</th>\n",
              "      <td>0.367880</td>\n",
              "      <td>0.143522</td>\n",
              "      <td>0.064299</td>\n",
              "      <td>0.184412</td>\n",
              "      <td>0.150722</td>\n",
              "      <td>1.000000</td>\n",
              "      <td>0.648068</td>\n",
              "      <td>0.550297</td>\n",
              "      <td>0.569733</td>\n",
              "      <td>0.551321</td>\n",
              "      <td>0.582095</td>\n",
              "    </tr>\n",
              "    <tr>\n",
              "      <th>compactness_mean</th>\n",
              "      <td>0.593575</td>\n",
              "      <td>0.496456</td>\n",
              "      <td>0.332535</td>\n",
              "      <td>0.551317</td>\n",
              "      <td>0.484790</td>\n",
              "      <td>0.648068</td>\n",
              "      <td>1.000000</td>\n",
              "      <td>0.888529</td>\n",
              "      <td>0.840408</td>\n",
              "      <td>0.626951</td>\n",
              "      <td>0.578215</td>\n",
              "    </tr>\n",
              "    <tr>\n",
              "      <th>concavity_mean</th>\n",
              "      <td>0.652024</td>\n",
              "      <td>0.644687</td>\n",
              "      <td>0.364920</td>\n",
              "      <td>0.687399</td>\n",
              "      <td>0.651832</td>\n",
              "      <td>0.550297</td>\n",
              "      <td>0.888529</td>\n",
              "      <td>1.000000</td>\n",
              "      <td>0.914248</td>\n",
              "      <td>0.538812</td>\n",
              "      <td>0.398674</td>\n",
              "    </tr>\n",
              "    <tr>\n",
              "      <th>concave points_mean</th>\n",
              "      <td>0.754754</td>\n",
              "      <td>0.803743</td>\n",
              "      <td>0.385123</td>\n",
              "      <td>0.835815</td>\n",
              "      <td>0.800544</td>\n",
              "      <td>0.569733</td>\n",
              "      <td>0.840408</td>\n",
              "      <td>0.914248</td>\n",
              "      <td>1.000000</td>\n",
              "      <td>0.503950</td>\n",
              "      <td>0.202853</td>\n",
              "    </tr>\n",
              "    <tr>\n",
              "      <th>symmetry_mean</th>\n",
              "      <td>0.326085</td>\n",
              "      <td>0.160014</td>\n",
              "      <td>0.133525</td>\n",
              "      <td>0.198793</td>\n",
              "      <td>0.156187</td>\n",
              "      <td>0.551321</td>\n",
              "      <td>0.626951</td>\n",
              "      <td>0.538812</td>\n",
              "      <td>0.503950</td>\n",
              "      <td>1.000000</td>\n",
              "      <td>0.490074</td>\n",
              "    </tr>\n",
              "    <tr>\n",
              "      <th>fractal_dimension_mean</th>\n",
              "      <td>0.001774</td>\n",
              "      <td>-0.302715</td>\n",
              "      <td>-0.033743</td>\n",
              "      <td>-0.247974</td>\n",
              "      <td>-0.276103</td>\n",
              "      <td>0.582095</td>\n",
              "      <td>0.578215</td>\n",
              "      <td>0.398674</td>\n",
              "      <td>0.202853</td>\n",
              "      <td>0.490074</td>\n",
              "      <td>1.000000</td>\n",
              "    </tr>\n",
              "  </tbody>\n",
              "</table>\n",
              "</div>\n",
              "      <button class=\"colab-df-convert\" onclick=\"convertToInteractive('df-dc5d7f1a-3559-4346-8f6a-6c700cde1b8f')\"\n",
              "              title=\"Convert this dataframe to an interactive table.\"\n",
              "              style=\"display:none;\">\n",
              "        \n",
              "  <svg xmlns=\"http://www.w3.org/2000/svg\" height=\"24px\"viewBox=\"0 0 24 24\"\n",
              "       width=\"24px\">\n",
              "    <path d=\"M0 0h24v24H0V0z\" fill=\"none\"/>\n",
              "    <path d=\"M18.56 5.44l.94 2.06.94-2.06 2.06-.94-2.06-.94-.94-2.06-.94 2.06-2.06.94zm-11 1L8.5 8.5l.94-2.06 2.06-.94-2.06-.94L8.5 2.5l-.94 2.06-2.06.94zm10 10l.94 2.06.94-2.06 2.06-.94-2.06-.94-.94-2.06-.94 2.06-2.06.94z\"/><path d=\"M17.41 7.96l-1.37-1.37c-.4-.4-.92-.59-1.43-.59-.52 0-1.04.2-1.43.59L10.3 9.45l-7.72 7.72c-.78.78-.78 2.05 0 2.83L4 21.41c.39.39.9.59 1.41.59.51 0 1.02-.2 1.41-.59l7.78-7.78 2.81-2.81c.8-.78.8-2.07 0-2.86zM5.41 20L4 18.59l7.72-7.72 1.47 1.35L5.41 20z\"/>\n",
              "  </svg>\n",
              "      </button>\n",
              "      \n",
              "  <style>\n",
              "    .colab-df-container {\n",
              "      display:flex;\n",
              "      flex-wrap:wrap;\n",
              "      gap: 12px;\n",
              "    }\n",
              "\n",
              "    .colab-df-convert {\n",
              "      background-color: #E8F0FE;\n",
              "      border: none;\n",
              "      border-radius: 50%;\n",
              "      cursor: pointer;\n",
              "      display: none;\n",
              "      fill: #1967D2;\n",
              "      height: 32px;\n",
              "      padding: 0 0 0 0;\n",
              "      width: 32px;\n",
              "    }\n",
              "\n",
              "    .colab-df-convert:hover {\n",
              "      background-color: #E2EBFA;\n",
              "      box-shadow: 0px 1px 2px rgba(60, 64, 67, 0.3), 0px 1px 3px 1px rgba(60, 64, 67, 0.15);\n",
              "      fill: #174EA6;\n",
              "    }\n",
              "\n",
              "    [theme=dark] .colab-df-convert {\n",
              "      background-color: #3B4455;\n",
              "      fill: #D2E3FC;\n",
              "    }\n",
              "\n",
              "    [theme=dark] .colab-df-convert:hover {\n",
              "      background-color: #434B5C;\n",
              "      box-shadow: 0px 1px 3px 1px rgba(0, 0, 0, 0.15);\n",
              "      filter: drop-shadow(0px 1px 2px rgba(0, 0, 0, 0.3));\n",
              "      fill: #FFFFFF;\n",
              "    }\n",
              "  </style>\n",
              "\n",
              "      <script>\n",
              "        const buttonEl =\n",
              "          document.querySelector('#df-dc5d7f1a-3559-4346-8f6a-6c700cde1b8f button.colab-df-convert');\n",
              "        buttonEl.style.display =\n",
              "          google.colab.kernel.accessAllowed ? 'block' : 'none';\n",
              "\n",
              "        async function convertToInteractive(key) {\n",
              "          const element = document.querySelector('#df-dc5d7f1a-3559-4346-8f6a-6c700cde1b8f');\n",
              "          const dataTable =\n",
              "            await google.colab.kernel.invokeFunction('convertToInteractive',\n",
              "                                                     [key], {});\n",
              "          if (!dataTable) return;\n",
              "\n",
              "          const docLinkHtml = 'Like what you see? Visit the ' +\n",
              "            '<a target=\"_blank\" href=https://colab.research.google.com/notebooks/data_table.ipynb>data table notebook</a>'\n",
              "            + ' to learn more about interactive tables.';\n",
              "          element.innerHTML = '';\n",
              "          dataTable['output_type'] = 'display_data';\n",
              "          await google.colab.output.renderOutput(dataTable, element);\n",
              "          const docLink = document.createElement('div');\n",
              "          docLink.innerHTML = docLinkHtml;\n",
              "          element.appendChild(docLink);\n",
              "        }\n",
              "      </script>\n",
              "    </div>\n",
              "  </div>\n",
              "  "
            ]
          },
          "metadata": {},
          "execution_count": 52
        }
      ]
    },
    {
      "cell_type": "markdown",
      "source": [
        "# 3. Feature selection"
      ],
      "metadata": {
        "id": "gE6WOh0f7htW"
      }
    },
    {
      "cell_type": "code",
      "source": [
        "x=df.drop(['diagnosis', 'id'], axis=1)\n",
        "y=df['diagnosis']"
      ],
      "metadata": {
        "id": "1U27II6WXOfn"
      },
      "execution_count": null,
      "outputs": []
    },
    {
      "cell_type": "code",
      "source": [
        "#split the dataset into independent (X) and dependent (Y)\n",
        "#Conversion of dataset from pandas df > numpy array for model creation : To check use type() function\n",
        "X= df.iloc[:, 2:31].values # featues\n",
        "Y= df.iloc[:,1].values #labels predicted"
      ],
      "metadata": {
        "id": "ueIUrGoofH2X"
      },
      "execution_count": null,
      "outputs": []
    },
    {
      "cell_type": "code",
      "source": [
        "prediction_var = ['texture_mean','perimeter_mean','smoothness_mean','compactness_mean','symmetry_mean']\n",
        "# now these are the variables which will use for prediction"
      ],
      "metadata": {
        "id": "4choe6vqs2Jc"
      },
      "execution_count": null,
      "outputs": []
    },
    {
      "cell_type": "code",
      "source": [
        "#now split our data into train and test\n",
        "from sklearn.model_selection import train_test_split \n",
        "train, test = train_test_split(data, test_size = 0.3)# in this our main data is splitted into train and test\n",
        "# we can check their dimension\n",
        "print(train.shape)\n",
        "print(test.shape)"
      ],
      "metadata": {
        "colab": {
          "base_uri": "https://localhost:8080/"
        },
        "id": "7LTDsb-9sbdu",
        "outputId": "e878a232-f2f3-4b63-9d35-14855e19d35f"
      },
      "execution_count": null,
      "outputs": [
        {
          "output_type": "stream",
          "name": "stdout",
          "text": [
            "(238, 32)\n",
            "(102, 32)\n"
          ]
        }
      ]
    },
    {
      "cell_type": "code",
      "source": [
        "\n",
        "test_X= test[prediction_var] # taking test data inputs"
      ],
      "metadata": {
        "id": "yp2zHhq3GXE6"
      },
      "execution_count": null,
      "outputs": []
    },
    {
      "cell_type": "code",
      "source": [
        "test_y =test.diagnosis   #output value of test data"
      ],
      "metadata": {
        "id": "ZxH6uQSPvwTu"
      },
      "execution_count": null,
      "outputs": []
    },
    {
      "cell_type": "markdown",
      "source": [
        "Fit the model to your data by calling the fit() method of the model instance"
      ],
      "metadata": {
        "id": "Zrgoen8_WvX2"
      }
    },
    {
      "cell_type": "markdown",
      "source": [
        "# Model Development and Evaluation"
      ],
      "metadata": {
        "id": "U5jF4H3H7zGE"
      }
    },
    {
      "cell_type": "code",
      "source": [
        "# Linear Regression\n",
        "##Prediction of wave Data Set by Linear Regression\n",
        "import mglearn\n",
        "from sklearn.model_selection import train_test_split\n",
        "from sklearn.linear_model import LinearRegression\n",
        "\n",
        "X, y = mglearn.datasets.make_wave(n_samples=90)\n",
        "X_train, X_test, y_train, y_test = train_test_split(X, y, random_state=42)\n",
        "\n",
        "lx= len(X_train)\n",
        "lr = LinearRegression().fit(X_train,y_train)"
      ],
      "metadata": {
        "id": "DePIBWjq2JV7"
      },
      "execution_count": null,
      "outputs": []
    },
    {
      "cell_type": "code",
      "source": [
        "\n",
        "print(\"lr coef_: {}\".format(lr.coef_))\n",
        "print(\"lr intercept_: {}\".format(lr.intercept_))"
      ],
      "metadata": {
        "colab": {
          "base_uri": "https://localhost:8080/"
        },
        "id": "kJU2Gr19BmkP",
        "outputId": "2e79f8e0-efa1-4865-888f-91a2b45fe0ea"
      },
      "execution_count": null,
      "outputs": [
        {
          "output_type": "stream",
          "name": "stdout",
          "text": [
            "lr coef_: [0.34964036]\n",
            "lr intercept_: -0.18224830660770872\n"
          ]
        }
      ]
    },
    {
      "cell_type": "code",
      "source": [
        "#Accuracy of this linear regression model\n",
        "print(\"Training set score: {:0.5f}\".format(lr.score(X_train, y_train)))\n",
        "print(\"Test set score:{:0.5f}\".format(lr.score(X_test, y_test)))"
      ],
      "metadata": {
        "colab": {
          "base_uri": "https://localhost:8080/"
        },
        "id": "D524iN0Ui9ZG",
        "outputId": "5f2fb655-59c4-45eb-b630-c863fff47eed"
      },
      "execution_count": null,
      "outputs": [
        {
          "output_type": "stream",
          "name": "stdout",
          "text": [
            "Training set score: 0.68711\n",
            "Test set score:0.73275\n"
          ]
        }
      ]
    },
    {
      "cell_type": "code",
      "source": [
        "#training the model\n",
        "lr=LinearRegression()\n",
        "lr.fit(X_train,y_train)"
      ],
      "metadata": {
        "colab": {
          "base_uri": "https://localhost:8080/"
        },
        "id": "LrJSh7jL5upm",
        "outputId": "eabb6f5a-57b3-49c8-c884-dce1945b55cc"
      },
      "execution_count": null,
      "outputs": [
        {
          "output_type": "execute_result",
          "data": {
            "text/plain": [
              "LinearRegression()"
            ]
          },
          "metadata": {},
          "execution_count": 76
        }
      ]
    },
    {
      "cell_type": "code",
      "source": [
        "y_predict=lr.predict(X_test)"
      ],
      "metadata": {
        "id": "gMg_mSja6F7Y"
      },
      "execution_count": null,
      "outputs": []
    },
    {
      "cell_type": "code",
      "source": [
        "y_predict\n"
      ],
      "metadata": {
        "colab": {
          "base_uri": "https://localhost:8080/"
        },
        "id": "HAayxxJl6MFH",
        "outputId": "c18ee18c-6941-48bd-b7f3-ecc56329806d"
      },
      "execution_count": null,
      "outputs": [
        {
          "output_type": "execute_result",
          "data": {
            "text/plain": [
              "array([-0.3283204 , -0.84483835, -0.49358667,  0.35230624, -0.71167167,\n",
              "        0.19957573,  1.02910669,  0.07859229,  0.75390167, -0.75032857,\n",
              "       -0.47681266,  1.07802761, -0.8104986 ,  0.2013684 ,  1.00692209])"
            ]
          },
          "metadata": {},
          "execution_count": 78
        }
      ]
    },
    {
      "cell_type": "markdown",
      "source": [
        "Additional keyword arguments to plt.plot specify a wide range of properties of the lines and markers:"
      ],
      "metadata": {
        "id": "Wcc2EXp391qw"
      }
    },
    {
      "cell_type": "code",
      "source": [
        "len(y_predict)"
      ],
      "metadata": {
        "colab": {
          "base_uri": "https://localhost:8080/"
        },
        "id": "7Gbqal-66byE",
        "outputId": "14005917-b055-41b7-c65b-7feb9d00e94d"
      },
      "execution_count": null,
      "outputs": [
        {
          "output_type": "execute_result",
          "data": {
            "text/plain": [
              "15"
            ]
          },
          "metadata": {},
          "execution_count": 79
        }
      ]
    },
    {
      "cell_type": "markdown",
      "source": [
        "# model comparsion"
      ],
      "metadata": {
        "id": "mvtHl10NryPZ"
      }
    },
    {
      "cell_type": "code",
      "source": [
        "from sklearn.linear_model import Ridge\n",
        "rg = Ridge().fit(X_train, y_train)\n",
        "y__predict = rg.predict(X_test)\n",
        "y__predict"
      ],
      "metadata": {
        "colab": {
          "base_uri": "https://localhost:8080/"
        },
        "id": "JakHwTeaGAVS",
        "outputId": "f5a53f8e-eb24-47ec-f006-f341728f1283"
      },
      "execution_count": null,
      "outputs": [
        {
          "output_type": "execute_result",
          "data": {
            "text/plain": [
              "array([-1.07693305, -0.58306341,  1.24522935,  0.81081039, -0.34384479,\n",
              "       -0.85153391, -0.1533525 ,  0.14436211, -1.37148351, -0.67993099,\n",
              "        0.37837388,  0.91577211, -1.17432631,  0.68701785,  0.98558276,\n",
              "       -0.9782778 , -0.17718125,  0.2887097 , -0.89455883,  0.97482566,\n",
              "        0.93628124,  1.4339806 ,  0.80798135])"
            ]
          },
          "metadata": {},
          "execution_count": 109
        }
      ]
    },
    {
      "cell_type": "code",
      "source": [
        "print(rg.score(X_train, y_train))\n",
        "print(rg.score(X_test, y_test))"
      ],
      "metadata": {
        "colab": {
          "base_uri": "https://localhost:8080/"
        },
        "id": "WoVcAdyhGCUY",
        "outputId": "af902e9e-05f8-427b-cdea-b2f973c209f3"
      },
      "execution_count": null,
      "outputs": [
        {
          "output_type": "stream",
          "name": "stdout",
          "text": [
            "0.6870932297002355\n",
            "0.7324583823898071\n"
          ]
        }
      ]
    },
    {
      "cell_type": "markdown",
      "source": [
        "Comparing the linerregression and ridge regression the accuracy is similar and either of them can be used in a real life model."
      ],
      "metadata": {
        "id": "73Hv2fF5oFXo"
      }
    }
  ]
}